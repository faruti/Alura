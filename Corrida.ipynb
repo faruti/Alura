{
  "nbformat": 4,
  "nbformat_minor": 0,
  "metadata": {
    "colab": {
      "provenance": [],
      "authorship_tag": "ABX9TyPnW1ApxO+U5fWl3n2ACKxm",
      "include_colab_link": true
    },
    "kernelspec": {
      "name": "python3",
      "display_name": "Python 3"
    },
    "language_info": {
      "name": "python"
    }
  },
  "cells": [
    {
      "cell_type": "markdown",
      "metadata": {
        "id": "view-in-github",
        "colab_type": "text"
      },
      "source": [
        "<a href=\"https://colab.research.google.com/github/faruti/Alura/blob/main/Corrida.ipynb\" target=\"_parent\"><img src=\"https://colab.research.google.com/assets/colab-badge.svg\" alt=\"Open In Colab\"/></a>"
      ]
    },
    {
      "cell_type": "markdown",
      "source": [
        "Instalando o SDK do Google"
      ],
      "metadata": {
        "id": "CmqJnyEYfzL9"
      }
    },
    {
      "cell_type": "code",
      "execution_count": 1,
      "metadata": {
        "id": "SDSLuXAjXcTe"
      },
      "outputs": [],
      "source": [
        "!pip install -q -U google-generativeai"
      ]
    },
    {
      "cell_type": "code",
      "source": [
        "# Import the Python SDK\n",
        "import google.generativeai as genai\n",
        "from google.colab import userdata\n",
        "api_key = userdata.get(\"secret_key\")\n",
        "genai.configure(api_key=api_key)"
      ],
      "metadata": {
        "id": "as2GdWImc4-K"
      },
      "execution_count": 40,
      "outputs": []
    },
    {
      "cell_type": "markdown",
      "source": [
        "Listar os modelos disponíveis"
      ],
      "metadata": {
        "id": "q_4pRodtdCGC"
      }
    },
    {
      "cell_type": "code",
      "source": [
        "for m in genai.list_models():\n",
        "  if 'generateContent' in m.supported_generation_methods:\n",
        "    print(m.name)"
      ],
      "metadata": {
        "colab": {
          "base_uri": "https://localhost:8080/",
          "height": 139
        },
        "id": "lsQA053gdJfp",
        "outputId": "19e912f0-c476-4497-da07-00a97aa39478"
      },
      "execution_count": 6,
      "outputs": [
        {
          "output_type": "stream",
          "name": "stdout",
          "text": [
            "models/gemini-1.0-pro\n",
            "models/gemini-1.0-pro-001\n",
            "models/gemini-1.0-pro-latest\n",
            "models/gemini-1.0-pro-vision-latest\n",
            "models/gemini-1.5-pro-latest\n",
            "models/gemini-pro\n",
            "models/gemini-pro-vision\n"
          ]
        }
      ]
    },
    {
      "cell_type": "code",
      "source": [
        "generation_config = {\n",
        "   \"candidate_count\": 1,\n",
        "   \"temperature\": 0.5,\n",
        "}"
      ],
      "metadata": {
        "id": "1c2gjoqOeiwC"
      },
      "execution_count": 24,
      "outputs": []
    },
    {
      "cell_type": "code",
      "source": [
        "safety_setting = {\n",
        "    \"harassment\": \"block_none\",\n",
        "    \"hate\": \"block_none\",\n",
        "    \"sexual\": \"block_none\",\n",
        "    \"dangerous\": \"block_none\",\n",
        "}"
      ],
      "metadata": {
        "id": "h8E1yQC1fQay"
      },
      "execution_count": 11,
      "outputs": []
    },
    {
      "cell_type": "markdown",
      "source": [
        "Inicializando o modelo"
      ],
      "metadata": {
        "id": "lFAEKfZbgBPw"
      }
    },
    {
      "cell_type": "code",
      "source": [
        "model = genai.GenerativeModel(model_name=\"gemini-pro\",\n",
        "                              safety_settings=safety_setting,\n",
        "                              generation_config=generation_config)"
      ],
      "metadata": {
        "id": "FEbcCWADh8fs"
      },
      "execution_count": 31,
      "outputs": []
    },
    {
      "cell_type": "code",
      "source": [
        "response = model.generate_content(\"Vamos aprender conteúdo sobre livros de corrida. Me dê sugestoes.\")\n",
        "print(response.text)"
      ],
      "metadata": {
        "colab": {
          "base_uri": "https://localhost:8080/",
          "height": 729
        },
        "id": "oYs8R2yHjNT8",
        "outputId": "54d35950-f509-49b5-cc75-21851ea3a684"
      },
      "execution_count": 32,
      "outputs": [
        {
          "output_type": "stream",
          "name": "stdout",
          "text": [
            "**Livros de Corrida para Iniciantes**\n",
            "\n",
            "* **Correr para Iniciantes** por Jeff Galloway\n",
            "* **Correr para Leigos** por John Hanc\n",
            "* **O Guia do Iniciante para Correr** por Hal Higdon\n",
            "* **Correndo Sem Lesões** por Jay Dicharry\n",
            "\n",
            "**Livros de Corrida para Corredores Intermediários**\n",
            "\n",
            "* **Corrida Avançada** por Joe Henderson\n",
            "* **O Livro da Corrida** por Jack Daniels\n",
            "* **Corra Mais Rápido** por Brad Hudson\n",
            "* **Treinamento de Corrida para Mulheres** por Liz McColgan\n",
            "\n",
            "**Livros de Corrida para Corredores Avançados**\n",
            "\n",
            "* **O Atleta Completo** por Alex Hutchinson\n",
            "* **A Ciência da Corrida** por Steve Magness\n",
            "* **Corrida de Elite** por Alberto Salazar\n",
            "* **Treinamento de Corrida de Alta Performance** por David Epstein\n",
            "\n",
            "**Livros de Corrida sobre Nutrição e Recuperação**\n",
            "\n",
            "* **Nutrição para Corredores** por Matt Fitzgerald\n",
            "* **O Livro de Receitas do Corredor** por Sally Bergesen\n",
            "* **Dormir para Vencer** por Nick Littlehales\n",
            "* **Recuperação para Corredores** por Jay Dicharry\n",
            "\n",
            "**Livros de Corrida sobre Motivação e Mentalidade**\n",
            "\n",
            "* **Mente Sobre Matéria** por John Ratey\n",
            "* **O Poder do Hábito** por Charles Duhigg\n",
            "* **O Elemento** por Ken Robinson\n",
            "* **A Psicologia da Corrida** por Jim Taylor\n",
            "\n",
            "**Livros de Corrida sobre História e Cultura**\n",
            "\n",
            "* **Nascidos para Correr** por Christopher McDougall\n",
            "* **Ultramaratona** por Dean Karnazes\n",
            "* **A Corrida dos Sonhos** por John L. Parker Jr.\n",
            "* **Correndo com os Quênia** por Adharanand Finn\n"
          ]
        }
      ]
    },
    {
      "cell_type": "code",
      "source": [
        "chat = model.start_chat(history=[])"
      ],
      "metadata": {
        "id": "9YhUHV8kj-IM"
      },
      "execution_count": 34,
      "outputs": []
    },
    {
      "cell_type": "code",
      "source": [
        "from ast import While\n",
        "prompt = input(\"Esperando prompt: \")\n",
        "\n",
        "while prompt != \"fim\":\n",
        "    response = chat.send_message(prompt)\n",
        "    print(\"Resposta: \", response.text, \"\\n\")\n",
        "    prompt = input(\"Esperando prompt: \")"
      ],
      "metadata": {
        "colab": {
          "base_uri": "https://localhost:8080/",
          "height": 191
        },
        "id": "0YT-KbT1keRl",
        "outputId": "995c8823-5eb0-416e-d53a-ba6dd5482c08"
      },
      "execution_count": 39,
      "outputs": [
        {
          "name": "stdout",
          "output_type": "stream",
          "text": [
            "Esperando prompt: quem é o homem mais rápido?\n",
            "Resposta:  Usain Bolt \n",
            "\n",
            "Esperando prompt: onde ele nasceu?\n",
            "Resposta:  Trelawny, Jamaica \n",
            "\n",
            "Esperando prompt: qual o melhor tempo dele nos 100 metros?\n",
            "Resposta:  9,58 segundos \n",
            "\n",
            "Esperando prompt: fim\n"
          ]
        }
      ]
    }
  ]
}